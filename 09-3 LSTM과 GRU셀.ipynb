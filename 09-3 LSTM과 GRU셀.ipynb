{
 "cells": [
  {
   "cell_type": "markdown",
   "id": "7f9ef9bf",
   "metadata": {},
   "source": [
    "### 09-3. LSTM과 GRU 셀"
   ]
  },
  {
   "cell_type": "markdown",
   "id": "1b6576c8",
   "metadata": {},
   "source": [
    "##### 1) LSTM 신경망 훈련하기"
   ]
  },
  {
   "cell_type": "code",
   "execution_count": 1,
   "id": "ea1cbb56",
   "metadata": {},
   "outputs": [
    {
     "name": "stderr",
     "output_type": "stream",
     "text": [
      "<__array_function__ internals>:5: VisibleDeprecationWarning: Creating an ndarray from ragged nested sequences (which is a list-or-tuple of lists-or-tuples-or ndarrays with different lengths or shapes) is deprecated. If you meant to do this, you must specify 'dtype=object' when creating the ndarray\n",
      "C:\\Users\\user\\anaconda3\\lib\\site-packages\\tensorflow\\python\\keras\\datasets\\imdb.py:159: VisibleDeprecationWarning: Creating an ndarray from ragged nested sequences (which is a list-or-tuple of lists-or-tuples-or ndarrays with different lengths or shapes) is deprecated. If you meant to do this, you must specify 'dtype=object' when creating the ndarray\n",
      "  x_train, y_train = np.array(xs[:idx]), np.array(labels[:idx])\n",
      "C:\\Users\\user\\anaconda3\\lib\\site-packages\\tensorflow\\python\\keras\\datasets\\imdb.py:160: VisibleDeprecationWarning: Creating an ndarray from ragged nested sequences (which is a list-or-tuple of lists-or-tuples-or ndarrays with different lengths or shapes) is deprecated. If you meant to do this, you must specify 'dtype=object' when creating the ndarray\n",
      "  x_test, y_test = np.array(xs[idx:]), np.array(labels[idx:])\n"
     ]
    }
   ],
   "source": [
    "# 데이터 로드 후 train set과 validation set 으로 나누기\n",
    "\n",
    "from tensorflow.keras.datasets import imdb\n",
    "from sklearn.model_selection import train_test_split\n",
    "\n",
    "(train_input, train_target), (test_input, test_target) = imdb.load_data(num_words=500)\n",
    "train_input, val_input, train_target, val_target = train_test_split(train_input, train_target, random_state=42, test_size=0.2)"
   ]
  },
  {
   "cell_type": "code",
   "execution_count": 2,
   "id": "ec50c54a",
   "metadata": {},
   "outputs": [],
   "source": [
    "# 샘플 길이를 100으로 맞추고 부족하면 패딩\n",
    "\n",
    "from tensorflow.keras.preprocessing.sequence import pad_sequences\n",
    "train_seq = pad_sequences(train_input, maxlen=100)\n",
    "val_seq = pad_sequences(val_input, maxlen=100)"
   ]
  },
  {
   "cell_type": "code",
   "execution_count": 3,
   "id": "94eb5366",
   "metadata": {},
   "outputs": [],
   "source": [
    "# LSTM 셀을 사용한 순환층 생성\n",
    "\n",
    "from tensorflow import keras\n",
    "model = keras.Sequential()\n",
    "model.add(keras.layers.Embedding(500, 16, input_length=100))\n",
    "model.add(keras.layers.LSTM(8))\n",
    "model.add(keras.layers.Dense(1, activation=\"sigmoid\"))"
   ]
  },
  {
   "cell_type": "code",
   "execution_count": 4,
   "id": "12ceda9f",
   "metadata": {},
   "outputs": [
    {
     "name": "stdout",
     "output_type": "stream",
     "text": [
      "Model: \"sequential\"\n",
      "_________________________________________________________________\n",
      "Layer (type)                 Output Shape              Param #   \n",
      "=================================================================\n",
      "embedding (Embedding)        (None, 100, 16)           8000      \n",
      "_________________________________________________________________\n",
      "lstm (LSTM)                  (None, 8)                 800       \n",
      "_________________________________________________________________\n",
      "dense (Dense)                (None, 1)                 9         \n",
      "=================================================================\n",
      "Total params: 8,809\n",
      "Trainable params: 8,809\n",
      "Non-trainable params: 0\n",
      "_________________________________________________________________\n"
     ]
    }
   ],
   "source": [
    "# 모델 구조 출력\n",
    "\n",
    "model.summary()"
   ]
  },
  {
   "cell_type": "code",
   "execution_count": 5,
   "id": "1349524f",
   "metadata": {},
   "outputs": [
    {
     "name": "stdout",
     "output_type": "stream",
     "text": [
      "Epoch 1/100\n",
      "313/313 [==============================] - 6s 18ms/step - loss: 0.6923 - accuracy: 0.5419 - val_loss: 0.6917 - val_accuracy: 0.5632\n",
      "Epoch 2/100\n",
      "313/313 [==============================] - 5s 16ms/step - loss: 0.6899 - accuracy: 0.6054 - val_loss: 0.6881 - val_accuracy: 0.6168\n",
      "Epoch 3/100\n",
      "313/313 [==============================] - 5s 16ms/step - loss: 0.6826 - accuracy: 0.6570 - val_loss: 0.6748 - val_accuracy: 0.6816s - l\n",
      "Epoch 4/100\n",
      "313/313 [==============================] - 5s 16ms/step - loss: 0.6423 - accuracy: 0.7114 - val_loss: 0.6120 - val_accuracy: 0.6964\n",
      "Epoch 5/100\n",
      "313/313 [==============================] - 5s 16ms/step - loss: 0.5936 - accuracy: 0.7157 - val_loss: 0.5846 - val_accuracy: 0.7208- loss: 0.597 - ETA: 0s - loss: 0.5945 \n",
      "Epoch 6/100\n",
      "313/313 [==============================] - 5s 17ms/step - loss: 0.5700 - accuracy: 0.7340 - val_loss: 0.5624 - val_accuracy: 0.7424\n",
      "Epoch 7/100\n",
      "313/313 [==============================] - 5s 17ms/step - loss: 0.5475 - accuracy: 0.7515 - val_loss: 0.5420 - val_accuracy: 0.7496\n",
      "Epoch 8/100\n",
      "313/313 [==============================] - 5s 17ms/step - loss: 0.5267 - accuracy: 0.7637 - val_loss: 0.5251 - val_accuracy: 0.7592\n",
      "Epoch 9/100\n",
      "313/313 [==============================] - 5s 17ms/step - loss: 0.5089 - accuracy: 0.7724 - val_loss: 0.5113 - val_accuracy: 0.7646\n",
      "Epoch 10/100\n",
      "313/313 [==============================] - 5s 17ms/step - loss: 0.4932 - accuracy: 0.7821 - val_loss: 0.4954 - val_accuracy: 0.7770\n",
      "Epoch 11/100\n",
      "313/313 [==============================] - 5s 16ms/step - loss: 0.4795 - accuracy: 0.7895 - val_loss: 0.4844 - val_accuracy: 0.7842\n",
      "Epoch 12/100\n",
      "313/313 [==============================] - 5s 16ms/step - loss: 0.4675 - accuracy: 0.7938 - val_loss: 0.4748 - val_accuracy: 0.7826\n",
      "Epoch 13/100\n",
      "313/313 [==============================] - 5s 16ms/step - loss: 0.4569 - accuracy: 0.7982 - val_loss: 0.4670 - val_accuracy: 0.7846\n",
      "Epoch 14/100\n",
      "313/313 [==============================] - 5s 15ms/step - loss: 0.4480 - accuracy: 0.8040 - val_loss: 0.4609 - val_accuracy: 0.7856\n",
      "Epoch 15/100\n",
      "313/313 [==============================] - 5s 16ms/step - loss: 0.4402 - accuracy: 0.8057 - val_loss: 0.4525 - val_accuracy: 0.7944\n",
      "Epoch 16/100\n",
      "313/313 [==============================] - 5s 16ms/step - loss: 0.4343 - accuracy: 0.8096 - val_loss: 0.4491 - val_accuracy: 0.7988\n",
      "Epoch 17/100\n",
      "313/313 [==============================] - 5s 15ms/step - loss: 0.4303 - accuracy: 0.8097 - val_loss: 0.4452 - val_accuracy: 0.7972\n",
      "Epoch 18/100\n",
      "313/313 [==============================] - 5s 17ms/step - loss: 0.4266 - accuracy: 0.8126 - val_loss: 0.4429 - val_accuracy: 0.7972\n",
      "Epoch 19/100\n",
      "313/313 [==============================] - 5s 16ms/step - loss: 0.4234 - accuracy: 0.8111 - val_loss: 0.4432 - val_accuracy: 0.7948\n",
      "Epoch 20/100\n",
      "313/313 [==============================] - 5s 16ms/step - loss: 0.4211 - accuracy: 0.8130 - val_loss: 0.4406 - val_accuracy: 0.7980\n",
      "Epoch 21/100\n",
      "313/313 [==============================] - 5s 16ms/step - loss: 0.4190 - accuracy: 0.8126 - val_loss: 0.4384 - val_accuracy: 0.7986\n",
      "Epoch 22/100\n",
      "313/313 [==============================] - 6s 18ms/step - loss: 0.4163 - accuracy: 0.8149 - val_loss: 0.4391 - val_accuracy: 0.7952\n",
      "Epoch 23/100\n",
      "313/313 [==============================] - 5s 16ms/step - loss: 0.4155 - accuracy: 0.8144 - val_loss: 0.4361 - val_accuracy: 0.7982\n",
      "Epoch 24/100\n",
      "313/313 [==============================] - 5s 16ms/step - loss: 0.4134 - accuracy: 0.8152 - val_loss: 0.4384 - val_accuracy: 0.7998\n",
      "Epoch 25/100\n",
      "313/313 [==============================] - 5s 16ms/step - loss: 0.4121 - accuracy: 0.8142 - val_loss: 0.4341 - val_accuracy: 0.7968\n",
      "Epoch 26/100\n",
      "313/313 [==============================] - 5s 16ms/step - loss: 0.4111 - accuracy: 0.8151 - val_loss: 0.4335 - val_accuracy: 0.8012\n",
      "Epoch 27/100\n",
      "313/313 [==============================] - 5s 16ms/step - loss: 0.4096 - accuracy: 0.8160 - val_loss: 0.4341 - val_accuracy: 0.7984\n",
      "Epoch 28/100\n",
      "313/313 [==============================] - 5s 16ms/step - loss: 0.4089 - accuracy: 0.8159 - val_loss: 0.4359 - val_accuracy: 0.7982\n",
      "Epoch 29/100\n",
      "313/313 [==============================] - 5s 16ms/step - loss: 0.4074 - accuracy: 0.8170 - val_loss: 0.4348 - val_accuracy: 0.8044\n"
     ]
    }
   ],
   "source": [
    "# 모델 훈련\n",
    "\n",
    "rmsprop = keras.optimizers.RMSprop(learning_rate=1e-4)\n",
    "model.compile(optimizer=rmsprop, loss=\"binary_crossentropy\", metrics=[\"accuracy\"])\n",
    "checkpoint_cb = keras.callbacks.ModelCheckpoint('best-lstm-model.h5')\n",
    "early_stopping_cb = keras.callbacks.EarlyStopping(patience=3, restore_best_weights=True)\n",
    "history = model.fit(train_seq, train_target, epochs=100, batch_size=64, validation_data=(val_seq, val_target), callbacks=[checkpoint_cb, early_stopping_cb])"
   ]
  },
  {
   "cell_type": "code",
   "execution_count": 6,
   "id": "865b5b5e",
   "metadata": {},
   "outputs": [
    {
     "data": {
      "image/png": "[encoded data removed]",
      "text/plain": [
       "<Figure size 432x288 with 1 Axes>"
      ]
     },
     "metadata": {
      "needs_background": "light"
     },
     "output_type": "display_data"
    }
   ],
   "source": [
    "# 훈련 손실과 검증 손실 그래프\n",
    "\n",
    "import matplotlib.pyplot as plt\n",
    "\n",
    "plt.plot(history.history[\"loss\"])\n",
    "plt.plot(history.history[\"val_loss\"])\n",
    "plt.xlabel(\"epoch\")\n",
    "plt.ylabel(\"loss\")\n",
    "plt.legend([\"train\",\"val\"])\n",
    "plt.show()"
   ]
  },
  {
   "cell_type": "markdown",
   "id": "457cba1e",
   "metadata": {},
   "source": [
    "##### 2) 순환층에 드롭아웃 적용하기 - 과대적합 제어 #####"
   ]
  },
  {
   "cell_type": "code",
   "execution_count": 7,
   "id": "84ab8e12",
   "metadata": {},
   "outputs": [],
   "source": [
    "# 드롭아웃 : 은닉층의 뉴런의 출력을 랜덤하게 꺼서 과대적합을 막는 기법\n",
    "# dropout 셀의 입력에 드롭아웃 적용 / recurrent_dropout : 순환되는 은닉 상태에 드롭아웃 적용, 단 GPU를 사용하여 모델 훈련이 불가하게 됨\n",
    "\n",
    "# dropout 만 적용하기\n",
    "\n",
    "model2 = keras.Sequential()\n",
    "model2.add(keras.layers.Embedding(500, 16, input_length=100))\n",
    "model2.add(keras.layers.LSTM(8, dropout=0.3))\n",
    "model2.add(keras.layers.Dense(1, activation=\"sigmoid\"))"
   ]
  },
  {
   "cell_type": "code",
   "execution_count": 8,
   "id": "7c3ced86",
   "metadata": {},
   "outputs": [
    {
     "name": "stdout",
     "output_type": "stream",
     "text": [
      "Epoch 1/100\n",
      "313/313 [==============================] - 6s 20ms/step - loss: 0.6925 - accuracy: 0.5235 - val_loss: 0.6917 - val_accuracy: 0.5614\n",
      "Epoch 2/100\n",
      "313/313 [==============================] - 5s 16ms/step - loss: 0.6898 - accuracy: 0.5986 - val_loss: 0.6878 - val_accuracy: 0.6216\n",
      "Epoch 3/100\n",
      "313/313 [==============================] - 5s 17ms/step - loss: 0.6799 - accuracy: 0.6637 - val_loss: 0.6650 - val_accuracy: 0.7046\n",
      "Epoch 4/100\n",
      "313/313 [==============================] - 5s 16ms/step - loss: 0.6342 - accuracy: 0.7008 - val_loss: 0.6142 - val_accuracy: 0.6994\n",
      "Epoch 5/100\n",
      "313/313 [==============================] - 5s 16ms/step - loss: 0.6035 - accuracy: 0.7026 - val_loss: 0.5919 - val_accuracy: 0.7132\n",
      "Epoch 6/100\n",
      "313/313 [==============================] - 6s 18ms/step - loss: 0.5822 - accuracy: 0.7186 - val_loss: 0.5725 - val_accuracy: 0.7236\n",
      "Epoch 7/100\n",
      "313/313 [==============================] - 5s 17ms/step - loss: 0.5601 - accuracy: 0.7390 - val_loss: 0.5518 - val_accuracy: 0.7374\n",
      "Epoch 8/100\n",
      "313/313 [==============================] - 6s 18ms/step - loss: 0.5402 - accuracy: 0.7506 - val_loss: 0.5339 - val_accuracy: 0.7498\n",
      "Epoch 9/100\n",
      "313/313 [==============================] - 5s 16ms/step - loss: 0.5220 - accuracy: 0.7642 - val_loss: 0.5174 - val_accuracy: 0.7620\n",
      "Epoch 10/100\n",
      "313/313 [==============================] - 5s 17ms/step - loss: 0.5066 - accuracy: 0.7707 - val_loss: 0.5014 - val_accuracy: 0.7730\n",
      "Epoch 11/100\n",
      "313/313 [==============================] - 5s 17ms/step - loss: 0.4938 - accuracy: 0.7778 - val_loss: 0.4961 - val_accuracy: 0.7706\n",
      "Epoch 12/100\n",
      "313/313 [==============================] - 5s 18ms/step - loss: 0.4831 - accuracy: 0.7839 - val_loss: 0.4807 - val_accuracy: 0.7834uracy: 0.\n",
      "Epoch 13/100\n",
      "313/313 [==============================] - 5s 17ms/step - loss: 0.4729 - accuracy: 0.7886 - val_loss: 0.4722 - val_accuracy: 0.7884\n",
      "Epoch 14/100\n",
      "313/313 [==============================] - 5s 17ms/step - loss: 0.4648 - accuracy: 0.7925 - val_loss: 0.4660 - val_accuracy: 0.7928\n",
      "Epoch 15/100\n",
      "313/313 [==============================] - 5s 18ms/step - loss: 0.4580 - accuracy: 0.7957 - val_loss: 0.4614 - val_accuracy: 0.7922\n",
      "Epoch 16/100\n",
      "313/313 [==============================] - 5s 17ms/step - loss: 0.4523 - accuracy: 0.7965 - val_loss: 0.4562 - val_accuracy: 0.7950\n",
      "Epoch 17/100\n",
      "313/313 [==============================] - 5s 17ms/step - loss: 0.4496 - accuracy: 0.7971 - val_loss: 0.4525 - val_accuracy: 0.7974\n",
      "Epoch 18/100\n",
      "313/313 [==============================] - 5s 17ms/step - loss: 0.4422 - accuracy: 0.8010 - val_loss: 0.4495 - val_accuracy: 0.7984\n",
      "Epoch 19/100\n",
      "313/313 [==============================] - 5s 17ms/step - loss: 0.4388 - accuracy: 0.8025 - val_loss: 0.4480 - val_accuracy: 0.7960\n",
      "Epoch 20/100\n",
      "313/313 [==============================] - 5s 17ms/step - loss: 0.4371 - accuracy: 0.8035 - val_loss: 0.4466 - val_accuracy: 0.7928\n",
      "Epoch 21/100\n",
      "313/313 [==============================] - 5s 17ms/step - loss: 0.4336 - accuracy: 0.8051 - val_loss: 0.4455 - val_accuracy: 0.7982\n",
      "Epoch 22/100\n",
      "313/313 [==============================] - 5s 17ms/step - loss: 0.4310 - accuracy: 0.8039 - val_loss: 0.4405 - val_accuracy: 0.7982\n",
      "Epoch 23/100\n",
      "313/313 [==============================] - 5s 17ms/step - loss: 0.4292 - accuracy: 0.8061 - val_loss: 0.4384 - val_accuracy: 0.7982\n",
      "Epoch 24/100\n",
      "313/313 [==============================] - 5s 17ms/step - loss: 0.4264 - accuracy: 0.8061 - val_loss: 0.4370 - val_accuracy: 0.7984\n",
      "Epoch 25/100\n",
      "313/313 [==============================] - 5s 17ms/step - loss: 0.4255 - accuracy: 0.8091 - val_loss: 0.4356 - val_accuracy: 0.8024\n",
      "Epoch 26/100\n",
      "313/313 [==============================] - 5s 17ms/step - loss: 0.4234 - accuracy: 0.8067 - val_loss: 0.4363 - val_accuracy: 0.7960\n",
      "Epoch 27/100\n",
      "313/313 [==============================] - 5s 17ms/step - loss: 0.4233 - accuracy: 0.8079 - val_loss: 0.4346 - val_accuracy: 0.8006\n",
      "Epoch 28/100\n",
      "313/313 [==============================] - 5s 17ms/step - loss: 0.4201 - accuracy: 0.8109 - val_loss: 0.4343 - val_accuracy: 0.7986\n",
      "Epoch 29/100\n",
      "313/313 [==============================] - 5s 17ms/step - loss: 0.4199 - accuracy: 0.8095 - val_loss: 0.4328 - val_accuracy: 0.7952\n",
      "Epoch 30/100\n",
      "313/313 [==============================] - 5s 17ms/step - loss: 0.4191 - accuracy: 0.8096 - val_loss: 0.4357 - val_accuracy: 0.7948\n",
      "Epoch 31/100\n",
      "313/313 [==============================] - 5s 17ms/step - loss: 0.4193 - accuracy: 0.8077 - val_loss: 0.4317 - val_accuracy: 0.8036\n",
      "Epoch 32/100\n",
      "313/313 [==============================] - 5s 17ms/step - loss: 0.4176 - accuracy: 0.8094 - val_loss: 0.4326 - val_accuracy: 0.8032\n",
      "Epoch 33/100\n",
      "313/313 [==============================] - 5s 17ms/step - loss: 0.4176 - accuracy: 0.8099 - val_loss: 0.4307 - val_accuracy: 0.8016\n",
      "Epoch 34/100\n",
      "313/313 [==============================] - 5s 17ms/step - loss: 0.4171 - accuracy: 0.8080 - val_loss: 0.4301 - val_accuracy: 0.7966\n",
      "Epoch 35/100\n",
      "313/313 [==============================] - 5s 17ms/step - loss: 0.4153 - accuracy: 0.8085 - val_loss: 0.4295 - val_accuracy: 0.7996\n",
      "Epoch 36/100\n",
      "313/313 [==============================] - 6s 18ms/step - loss: 0.4134 - accuracy: 0.8094 - val_loss: 0.4315 - val_accuracy: 0.8022\n",
      "Epoch 37/100\n",
      "313/313 [==============================] - 6s 19ms/step - loss: 0.4145 - accuracy: 0.8099 - val_loss: 0.4315 - val_accuracy: 0.8030\n",
      "Epoch 38/100\n",
      "313/313 [==============================] - 5s 18ms/step - loss: 0.4134 - accuracy: 0.8105 - val_loss: 0.4289 - val_accuracy: 0.7970\n",
      "Epoch 39/100\n",
      "313/313 [==============================] - 6s 18ms/step - loss: 0.4120 - accuracy: 0.8104 - val_loss: 0.4288 - val_accuracy: 0.7984\n",
      "Epoch 40/100\n",
      "313/313 [==============================] - 5s 18ms/step - loss: 0.4128 - accuracy: 0.8101 - val_loss: 0.4300 - val_accuracy: 0.8024\n",
      "Epoch 41/100\n",
      "313/313 [==============================] - 5s 17ms/step - loss: 0.4122 - accuracy: 0.8135 - val_loss: 0.4289 - val_accuracy: 0.7994\n",
      "Epoch 42/100\n",
      "313/313 [==============================] - 5s 17ms/step - loss: 0.4128 - accuracy: 0.8092 - val_loss: 0.4286 - val_accuracy: 0.8000\n",
      "Epoch 43/100\n",
      "313/313 [==============================] - 6s 18ms/step - loss: 0.4109 - accuracy: 0.8106 - val_loss: 0.4288 - val_accuracy: 0.7996\n",
      "Epoch 44/100\n",
      "313/313 [==============================] - 6s 18ms/step - loss: 0.4100 - accuracy: 0.8123 - val_loss: 0.4284 - val_accuracy: 0.7998\n",
      "Epoch 45/100\n",
      "313/313 [==============================] - 5s 17ms/step - loss: 0.4110 - accuracy: 0.8084 - val_loss: 0.4289 - val_accuracy: 0.8012\n",
      "Epoch 46/100\n",
      "313/313 [==============================] - 5s 17ms/step - loss: 0.4093 - accuracy: 0.8141 - val_loss: 0.4302 - val_accuracy: 0.8018\n",
      "Epoch 47/100\n",
      "313/313 [==============================] - 5s 18ms/step - loss: 0.4092 - accuracy: 0.8120 - val_loss: 0.4311 - val_accuracy: 0.8018\n"
     ]
    }
   ],
   "source": [
    "rmsprop = keras.optimizers.RMSprop(learning_rate=1e-4)\n",
    "model2.compile(optimizer=rmsprop, loss='binary_crossentropy', metrics=['accuracy'])\n",
    "checkpoint_cb = keras.callbacks.ModelCheckpoint('best-dropout-model.h5')\n",
    "early_stopping_cb = keras.callbacks.EarlyStopping(patience=3, restore_best_weights=True)\n",
    "history = model2.fit(train_seq, train_target, epochs=100, batch_size=64, validation_data=(val_seq, val_target), callbacks=[checkpoint_cb, early_stopping_cb])"
   ]
  },
  {
   "cell_type": "code",
   "execution_count": 9,
   "id": "125919b8",
   "metadata": {},
   "outputs": [
    {
     "data": {
      "image/png": "[encoded data removed]",
      "text/plain": [
       "<Figure size 432x288 with 1 Axes>"
      ]
     },
     "metadata": {
      "needs_background": "light"
     },
     "output_type": "display_data"
    }
   ],
   "source": [
    "# 훈련 손실 및 검증 손실 그래프\n",
    "\n",
    "plt.plot(history.history[\"loss\"])\n",
    "plt.plot(history.history[\"val_loss\"])\n",
    "plt.xlabel(\"epoch\")\n",
    "plt.ylabel(\"loss\")\n",
    "plt.legend([\"train\", \"val\"])\n",
    "plt.show() # 훈련손실과 검증손실의 격차 줄어듦 확인"
   ]
  },
  {
   "cell_type": "markdown",
   "id": "5ad6558e",
   "metadata": {},
   "source": [
    "##### 3) 2개의 층 연결 #####"
   ]
  },
  {
   "cell_type": "code",
   "execution_count": 10,
   "id": "034853d8",
   "metadata": {},
   "outputs": [],
   "source": [
    "# 순환층을 연결하기 위해서는 앞쪽의 순환층이 모든 타임스텝에 대한 은닉 상태를 출력해야 함 -> return_sequences=True 로 설정\n",
    "# 2개의 LSTM층 쌓기\n",
    "\n",
    "model3 = keras.Sequential()\n",
    "model3.add(keras.layers.Embedding(500, 16, input_length=100))\n",
    "model3.add(keras.layers.LSTM(8, dropout=0.3, return_sequences=True))\n",
    "model3.add(keras.layers.LSTM(8, dropout=0.3))\n",
    "model3.add(keras.layers.Dense(1, activation=\"sigmoid\"))"
   ]
  },
  {
   "cell_type": "code",
   "execution_count": 11,
   "id": "272c3a05",
   "metadata": {},
   "outputs": [
    {
     "name": "stdout",
     "output_type": "stream",
     "text": [
      "Model: \"sequential_2\"\n",
      "_________________________________________________________________\n",
      "Layer (type)                 Output Shape              Param #   \n",
      "=================================================================\n",
      "embedding_2 (Embedding)      (None, 100, 16)           8000      \n",
      "_________________________________________________________________\n",
      "lstm_2 (LSTM)                (None, 100, 8)            800       \n",
      "_________________________________________________________________\n",
      "lstm_3 (LSTM)                (None, 8)                 544       \n",
      "_________________________________________________________________\n",
      "dense_2 (Dense)              (None, 1)                 9         \n",
      "=================================================================\n",
      "Total params: 9,353\n",
      "Trainable params: 9,353\n",
      "Non-trainable params: 0\n",
      "_________________________________________________________________\n"
     ]
    }
   ],
   "source": [
    "model3.summary()"
   ]
  },
  {
   "cell_type": "code",
   "execution_count": 12,
   "id": "b7a61e98",
   "metadata": {},
   "outputs": [
    {
     "name": "stdout",
     "output_type": "stream",
     "text": [
      "Epoch 1/100\n",
      "313/313 [==============================] - 6s 20ms/step - loss: 0.4103 - accuracy: 0.8134 - val_loss: 0.4286 - val_accuracy: 0.8028\n",
      "Epoch 2/100\n",
      "313/313 [==============================] - 6s 18ms/step - loss: 0.4107 - accuracy: 0.8107 - val_loss: 0.4279 - val_accuracy: 0.8006\n",
      "Epoch 3/100\n",
      "313/313 [==============================] - 6s 19ms/step - loss: 0.4112 - accuracy: 0.8130 - val_loss: 0.4281 - val_accuracy: 0.7998\n",
      "Epoch 4/100\n",
      "313/313 [==============================] - 5s 16ms/step - loss: 0.4099 - accuracy: 0.8120 - val_loss: 0.4289 - val_accuracy: 0.8020\n",
      "Epoch 5/100\n",
      "313/313 [==============================] - 5s 17ms/step - loss: 0.4075 - accuracy: 0.8127 - val_loss: 0.4302 - val_accuracy: 0.8018\n"
     ]
    }
   ],
   "source": [
    "# 모델 훈련\n",
    "\n",
    "rmsprop = keras.optimizers.RMSprop(learning_rate=1e-4)\n",
    "model3.compile(optimizer=rmsprop, loss='binary_crossentropy', metrics=['accuracy'])\n",
    "checkpoint_cb = keras.callbacks.ModelCheckpoint('best-2rnn-model.h5')\n",
    "early_stopping_cb = keras.callbacks.EarlyStopping(patience=3, restore_best_weights=True)\n",
    "history = model2.fit(train_seq, train_target, epochs=100, batch_size=64, validation_data=(val_seq, val_target), callbacks=[checkpoint_cb, early_stopping_cb])"
   ]
  },
  {
   "cell_type": "code",
   "execution_count": 13,
   "id": "fcfcdb06",
   "metadata": {},
   "outputs": [
    {
     "data": {
      "image/png": "[encoded data removed]",
      "text/plain": [
       "<Figure size 432x288 with 1 Axes>"
      ]
     },
     "metadata": {
      "needs_background": "light"
     },
     "output_type": "display_data"
    }
   ],
   "source": [
    "# 훈련 손실 검증 손실 그래프\n",
    "\n",
    "plt.plot(history.history[\"loss\"])\n",
    "plt.plot(history.history[\"val_loss\"])\n",
    "plt.xlabel(\"epoch\")\n",
    "plt.ylabel(\"loss\")\n",
    "plt.legend([\"train\", \"val\"])\n",
    "plt.show()"
   ]
  },
  {
   "cell_type": "markdown",
   "id": "de6a5d00",
   "metadata": {},
   "source": [
    "### GRU 구조 ###"
   ]
  },
  {
   "cell_type": "code",
   "execution_count": 14,
   "id": "ff863382",
   "metadata": {},
   "outputs": [],
   "source": [
    "model4 = keras.Sequential()\n",
    "model4.add(keras.layers.Embedding(500, 16, input_length=100))\n",
    "model4.add(keras.layers.GRU(8))\n",
    "model4.add(keras.layers.Dense(1, activation=\"sigmoid\"))"
   ]
  },
  {
   "cell_type": "code",
   "execution_count": 16,
   "id": "ca06fb2a",
   "metadata": {
    "scrolled": true
   },
   "outputs": [
    {
     "name": "stdout",
     "output_type": "stream",
     "text": [
      "Model: \"sequential_3\"\n",
      "_________________________________________________________________\n",
      "Layer (type)                 Output Shape              Param #   \n",
      "=================================================================\n",
      "embedding_3 (Embedding)      (None, 100, 16)           8000      \n",
      "_________________________________________________________________\n",
      "gru (GRU)                    (None, 8)                 624       \n",
      "_________________________________________________________________\n",
      "dense_3 (Dense)              (None, 1)                 9         \n",
      "=================================================================\n",
      "Total params: 8,633\n",
      "Trainable params: 8,633\n",
      "Non-trainable params: 0\n",
      "_________________________________________________________________\n"
     ]
    }
   ],
   "source": [
    "model4.summary()"
   ]
  },
  {
   "cell_type": "code",
   "execution_count": 27,
   "id": "cd820a1f",
   "metadata": {},
   "outputs": [
    {
     "name": "stdout",
     "output_type": "stream",
     "text": [
      "Epoch 1/100\n",
      "313/313 [==============================] - 6s 20ms/step - loss: 0.6898 - accuracy: 0.5840 - val_loss: 0.6888 - val_accuracy: 0.5856\n",
      "Epoch 2/100\n",
      "313/313 [==============================] - 6s 20ms/step - loss: 0.6863 - accuracy: 0.5976 - val_loss: 0.6849 - val_accuracy: 0.6022\n",
      "Epoch 3/100\n",
      "313/313 [==============================] - 6s 20ms/step - loss: 0.6808 - accuracy: 0.6166 - val_loss: 0.6787 - val_accuracy: 0.6096\n",
      "Epoch 4/100\n",
      "313/313 [==============================] - 6s 19ms/step - loss: 0.6722 - accuracy: 0.6322 - val_loss: 0.6689 - val_accuracy: 0.6256\n",
      "Epoch 5/100\n",
      "313/313 [==============================] - 6s 19ms/step - loss: 0.6578 - accuracy: 0.6505 - val_loss: 0.6514 - val_accuracy: 0.6482\n",
      "Epoch 6/100\n",
      "313/313 [==============================] - 6s 19ms/step - loss: 0.6306 - accuracy: 0.6712 - val_loss: 0.6166 - val_accuracy: 0.6772\n",
      "Epoch 7/100\n",
      "313/313 [==============================] - 6s 19ms/step - loss: 0.5794 - accuracy: 0.7106 - val_loss: 0.5624 - val_accuracy: 0.7276\n",
      "Epoch 8/100\n",
      "313/313 [==============================] - 6s 19ms/step - loss: 0.5396 - accuracy: 0.7407 - val_loss: 0.5415 - val_accuracy: 0.7392\n",
      "Epoch 9/100\n",
      "313/313 [==============================] - 6s 19ms/step - loss: 0.5214 - accuracy: 0.7520 - val_loss: 0.5256 - val_accuracy: 0.7496\n",
      "Epoch 10/100\n",
      "313/313 [==============================] - 6s 20ms/step - loss: 0.5086 - accuracy: 0.7600 - val_loss: 0.5161 - val_accuracy: 0.7590\n",
      "Epoch 11/100\n",
      "313/313 [==============================] - 6s 21ms/step - loss: 0.4977 - accuracy: 0.7682 - val_loss: 0.5081 - val_accuracy: 0.7674\n",
      "Epoch 12/100\n",
      "313/313 [==============================] - 6s 20ms/step - loss: 0.4892 - accuracy: 0.7711 - val_loss: 0.5046 - val_accuracy: 0.7558\n",
      "Epoch 13/100\n",
      "313/313 [==============================] - 6s 19ms/step - loss: 0.4812 - accuracy: 0.7774 - val_loss: 0.4929 - val_accuracy: 0.7696\n",
      "Epoch 14/100\n",
      "313/313 [==============================] - 6s 19ms/step - loss: 0.4743 - accuracy: 0.7815 - val_loss: 0.4891 - val_accuracy: 0.7706\n",
      "Epoch 15/100\n",
      "313/313 [==============================] - 6s 19ms/step - loss: 0.4683 - accuracy: 0.7845 - val_loss: 0.4834 - val_accuracy: 0.7796\n",
      "Epoch 16/100\n",
      "313/313 [==============================] - 6s 19ms/step - loss: 0.4631 - accuracy: 0.7889 - val_loss: 0.4795 - val_accuracy: 0.7790\n",
      "Epoch 17/100\n",
      "313/313 [==============================] - 6s 19ms/step - loss: 0.4586 - accuracy: 0.7916 - val_loss: 0.4774 - val_accuracy: 0.7766\n",
      "Epoch 18/100\n",
      "313/313 [==============================] - 6s 19ms/step - loss: 0.4538 - accuracy: 0.7948 - val_loss: 0.4737 - val_accuracy: 0.7800\n",
      "Epoch 19/100\n",
      "313/313 [==============================] - 6s 19ms/step - loss: 0.4503 - accuracy: 0.7973 - val_loss: 0.4709 - val_accuracy: 0.7802\n",
      "Epoch 20/100\n",
      "313/313 [==============================] - 6s 19ms/step - loss: 0.4475 - accuracy: 0.7973 - val_loss: 0.4689 - val_accuracy: 0.7792\n",
      "Epoch 21/100\n",
      "313/313 [==============================] - 6s 19ms/step - loss: 0.4445 - accuracy: 0.8005 - val_loss: 0.4667 - val_accuracy: 0.7814\n",
      "Epoch 22/100\n",
      "313/313 [==============================] - 6s 19ms/step - loss: 0.4418 - accuracy: 0.8018 - val_loss: 0.4648 - val_accuracy: 0.7818\n",
      "Epoch 23/100\n",
      "313/313 [==============================] - 6s 19ms/step - loss: 0.4390 - accuracy: 0.8038 - val_loss: 0.4642 - val_accuracy: 0.7844\n",
      "Epoch 24/100\n",
      "313/313 [==============================] - 6s 19ms/step - loss: 0.4376 - accuracy: 0.8045 - val_loss: 0.4619 - val_accuracy: 0.7828\n",
      "Epoch 25/100\n",
      "313/313 [==============================] - 6s 19ms/step - loss: 0.4353 - accuracy: 0.8056 - val_loss: 0.4608 - val_accuracy: 0.7856\n",
      "Epoch 26/100\n",
      "313/313 [==============================] - 6s 19ms/step - loss: 0.4331 - accuracy: 0.8062 - val_loss: 0.4628 - val_accuracy: 0.7790\n",
      "Epoch 27/100\n",
      "313/313 [==============================] - 6s 19ms/step - loss: 0.4316 - accuracy: 0.8078 - val_loss: 0.4598 - val_accuracy: 0.7862\n",
      "Epoch 28/100\n",
      "313/313 [==============================] - 6s 19ms/step - loss: 0.4304 - accuracy: 0.8080 - val_loss: 0.4589 - val_accuracy: 0.7856\n",
      "Epoch 29/100\n",
      "313/313 [==============================] - 6s 19ms/step - loss: 0.4286 - accuracy: 0.8084 - val_loss: 0.4573 - val_accuracy: 0.7876\n",
      "Epoch 30/100\n",
      "313/313 [==============================] - 6s 20ms/step - loss: 0.4277 - accuracy: 0.8099 - val_loss: 0.4664 - val_accuracy: 0.7854\n",
      "Epoch 31/100\n",
      "313/313 [==============================] - 6s 19ms/step - loss: 0.4263 - accuracy: 0.8106 - val_loss: 0.4570 - val_accuracy: 0.7890\n",
      "Epoch 32/100\n",
      "313/313 [==============================] - 6s 19ms/step - loss: 0.4253 - accuracy: 0.8116 - val_loss: 0.4560 - val_accuracy: 0.7894\n",
      "Epoch 33/100\n",
      "313/313 [==============================] - 6s 19ms/step - loss: 0.4241 - accuracy: 0.8120 - val_loss: 0.4541 - val_accuracy: 0.7882\n",
      "Epoch 34/100\n",
      "313/313 [==============================] - 6s 19ms/step - loss: 0.4231 - accuracy: 0.8131 - val_loss: 0.4534 - val_accuracy: 0.7878\n",
      "Epoch 35/100\n",
      "313/313 [==============================] - 6s 19ms/step - loss: 0.4226 - accuracy: 0.8137 - val_loss: 0.4525 - val_accuracy: 0.7900\n",
      "Epoch 36/100\n",
      "313/313 [==============================] - 6s 19ms/step - loss: 0.4216 - accuracy: 0.8135 - val_loss: 0.4522 - val_accuracy: 0.7902\n",
      "Epoch 37/100\n",
      "313/313 [==============================] - 6s 19ms/step - loss: 0.4205 - accuracy: 0.8143 - val_loss: 0.4510 - val_accuracy: 0.7902\n",
      "Epoch 38/100\n",
      "313/313 [==============================] - 6s 19ms/step - loss: 0.4201 - accuracy: 0.8142 - val_loss: 0.4512 - val_accuracy: 0.7904\n",
      "Epoch 39/100\n",
      "313/313 [==============================] - 6s 19ms/step - loss: 0.4193 - accuracy: 0.8151 - val_loss: 0.4502 - val_accuracy: 0.7908\n",
      "Epoch 40/100\n",
      "313/313 [==============================] - 6s 19ms/step - loss: 0.4187 - accuracy: 0.8148 - val_loss: 0.4498 - val_accuracy: 0.7910\n",
      "Epoch 41/100\n",
      "313/313 [==============================] - 6s 19ms/step - loss: 0.4178 - accuracy: 0.8166 - val_loss: 0.4495 - val_accuracy: 0.7892\n",
      "Epoch 42/100\n",
      "313/313 [==============================] - 6s 20ms/step - loss: 0.4175 - accuracy: 0.8148 - val_loss: 0.4480 - val_accuracy: 0.7914\n",
      "Epoch 43/100\n",
      "313/313 [==============================] - 6s 19ms/step - loss: 0.4165 - accuracy: 0.8155 - val_loss: 0.4482 - val_accuracy: 0.7920\n",
      "Epoch 44/100\n",
      "313/313 [==============================] - 6s 19ms/step - loss: 0.4163 - accuracy: 0.8166 - val_loss: 0.4472 - val_accuracy: 0.7934\n",
      "Epoch 45/100\n",
      "313/313 [==============================] - 6s 19ms/step - loss: 0.4155 - accuracy: 0.8176 - val_loss: 0.4457 - val_accuracy: 0.7930\n",
      "Epoch 46/100\n",
      "313/313 [==============================] - 6s 20ms/step - loss: 0.4147 - accuracy: 0.8174 - val_loss: 0.4468 - val_accuracy: 0.7922\n",
      "Epoch 47/100\n",
      "313/313 [==============================] - 6s 19ms/step - loss: 0.4142 - accuracy: 0.8158 - val_loss: 0.4455 - val_accuracy: 0.7940\n",
      "Epoch 48/100\n",
      "313/313 [==============================] - 6s 19ms/step - loss: 0.4139 - accuracy: 0.8164 - val_loss: 0.4447 - val_accuracy: 0.7904\n",
      "Epoch 49/100\n",
      "313/313 [==============================] - 6s 19ms/step - loss: 0.4133 - accuracy: 0.8181 - val_loss: 0.4447 - val_accuracy: 0.7948\n",
      "Epoch 50/100\n",
      "313/313 [==============================] - 6s 19ms/step - loss: 0.4127 - accuracy: 0.8176 - val_loss: 0.4431 - val_accuracy: 0.7944\n",
      "Epoch 51/100\n",
      "313/313 [==============================] - 6s 20ms/step - loss: 0.4120 - accuracy: 0.8184 - val_loss: 0.4429 - val_accuracy: 0.7934\n",
      "Epoch 52/100\n",
      "313/313 [==============================] - 6s 20ms/step - loss: 0.4117 - accuracy: 0.8166 - val_loss: 0.4436 - val_accuracy: 0.7936\n",
      "Epoch 53/100\n",
      "313/313 [==============================] - 6s 20ms/step - loss: 0.4112 - accuracy: 0.8162 - val_loss: 0.4411 - val_accuracy: 0.7956\n",
      "Epoch 54/100\n",
      "313/313 [==============================] - 6s 20ms/step - loss: 0.4110 - accuracy: 0.8174 - val_loss: 0.4398 - val_accuracy: 0.7972\n",
      "Epoch 55/100\n",
      "313/313 [==============================] - 6s 19ms/step - loss: 0.4106 - accuracy: 0.8180 - val_loss: 0.4407 - val_accuracy: 0.7976\n",
      "Epoch 56/100\n",
      "313/313 [==============================] - 6s 19ms/step - loss: 0.4097 - accuracy: 0.8182 - val_loss: 0.4440 - val_accuracy: 0.7974\n",
      "Epoch 57/100\n"
     ]
    },
    {
     "name": "stdout",
     "output_type": "stream",
     "text": [
      "313/313 [==============================] - 6s 19ms/step - loss: 0.4095 - accuracy: 0.8190 - val_loss: 0.4488 - val_accuracy: 0.7938\n"
     ]
    }
   ],
   "source": [
    "rmsprop = keras.optimizers.RMSprop(learning_rate=1e-4)\n",
    "model4.compile(optimizer=rmsprop, loss='binary_crossentropy', metrics=['accuracy'])\n",
    "checkpoint_cb = keras.callbacks.ModelCheckpoint('best-gru-model.h5')\n",
    "early_stopping_cb = keras.callbacks.EarlyStopping(patience=3, restore_best_weights=True)\n",
    "history = model4.fit(train_seq, train_target, epochs=100, batch_size=64, validation_data=(val_seq, val_target), callbacks=[checkpoint_cb, early_stopping_cb])"
   ]
  },
  {
   "cell_type": "code",
   "execution_count": 31,
   "id": "387e6a94",
   "metadata": {},
   "outputs": [
    {
     "data": {
      "image/png": "[encoded data removed]",
      "text/plain": [
       "<Figure size 432x288 with 1 Axes>"
      ]
     },
     "metadata": {
      "needs_background": "light"
     },
     "output_type": "display_data"
    }
   ],
   "source": [
    "# 훈련손실 검증손실 그래프\n",
    "\n",
    "plt.plot(history.history[\"loss\"])\n",
    "plt.plot(history.history[\"val_loss\"])\n",
    "plt.xlabel(\"epoch\")\n",
    "plt.ylabel(\"loss\")\n",
    "plt.legend([\"train\", \"val\"])\n",
    "plt.show()"
   ]
  },
  {
   "cell_type": "markdown",
   "id": "22151366",
   "metadata": {},
   "source": [
    "##### 2) 2개 순환층 모델 성능 계산"
   ]
  },
  {
   "cell_type": "code",
   "execution_count": 32,
   "id": "e077b324",
   "metadata": {},
   "outputs": [
    {
     "name": "stdout",
     "output_type": "stream",
     "text": [
      "782/782 [==============================] - 2s 3ms/step - loss: 0.4262 - accuracy: 0.8033\n"
     ]
    },
    {
     "data": {
      "text/plain": [
       "[0.42624014616012573, 0.8033199906349182]"
      ]
     },
     "execution_count": 32,
     "metadata": {},
     "output_type": "execute_result"
    }
   ],
   "source": [
    "test_seq = pad_sequences(test_input, maxlen=100)\n",
    "rnn_model = keras.models.load_model('best-2rnn-model.h5')\n",
    "rnn_model.evaluate(test_seq, test_target)"
   ]
  },
  {
   "cell_type": "code",
   "execution_count": null,
   "id": "b43898ed",
   "metadata": {},
   "outputs": [],
   "source": []
  }
 ],
 "metadata": {
  "kernelspec": {
   "display_name": "Python 3",
   "language": "python",
   "name": "python3"
  },
  "language_info": {
   "codemirror_mode": {
    "name": "ipython",
    "version": 3
   },
   "file_extension": ".py",
   "mimetype": "text/x-python",
   "name": "python",
   "nbconvert_exporter": "python",
   "pygments_lexer": "ipython3",
   "version": "3.8.8"
  }
 },
 "nbformat": 4,
 "nbformat_minor": 5
}
