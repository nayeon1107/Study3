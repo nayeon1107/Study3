{
 "cells": [
  {
   "cell_type": "markdown",
   "id": "ab95bbe7",
   "metadata": {},
   "source": [
    "### 09-2. 순환 신경망으로 IMDB 리뷰 분류하기 ###"
   ]
  },
  {
   "cell_type": "markdown",
   "id": "eba2c6b1",
   "metadata": {},
   "source": [
    "##### 1) 데이터 불러오기 & 전처리"
   ]
  },
  {
   "cell_type": "code",
   "execution_count": 1,
   "id": "d875d57d",
   "metadata": {},
   "outputs": [
    {
     "name": "stderr",
     "output_type": "stream",
     "text": [
      "<__array_function__ internals>:5: VisibleDeprecationWarning: Creating an ndarray from ragged nested sequences (which is a list-or-tuple of lists-or-tuples-or ndarrays with different lengths or shapes) is deprecated. If you meant to do this, you must specify 'dtype=object' when creating the ndarray\n",
      "C:\\Users\\user\\anaconda3\\lib\\site-packages\\tensorflow\\python\\keras\\datasets\\imdb.py:159: VisibleDeprecationWarning: Creating an ndarray from ragged nested sequences (which is a list-or-tuple of lists-or-tuples-or ndarrays with different lengths or shapes) is deprecated. If you meant to do this, you must specify 'dtype=object' when creating the ndarray\n",
      "  x_train, y_train = np.array(xs[:idx]), np.array(labels[:idx])\n",
      "C:\\Users\\user\\anaconda3\\lib\\site-packages\\tensorflow\\python\\keras\\datasets\\imdb.py:160: VisibleDeprecationWarning: Creating an ndarray from ragged nested sequences (which is a list-or-tuple of lists-or-tuples-or ndarrays with different lengths or shapes) is deprecated. If you meant to do this, you must specify 'dtype=object' when creating the ndarray\n",
      "  x_test, y_test = np.array(xs[idx:]), np.array(labels[idx:])\n"
     ]
    }
   ],
   "source": [
    "# 데이터 불러오기\n",
    "\n",
    "from tensorflow.keras.datasets import imdb\n",
    "(train_input, train_target), (test_input, test_target) = imdb.load_data(num_words = 500) # 전체 데이터셋에서 가장 자주 등장하는 단어 500개만 사용\n"
   ]
  },
  {
   "cell_type": "code",
   "execution_count": 2,
   "id": "c6dcd66e",
   "metadata": {},
   "outputs": [
    {
     "name": "stdout",
     "output_type": "stream",
     "text": [
      "(25000,) (25000,)\n"
     ]
    }
   ],
   "source": [
    "# train set, test set 크기 확인\n",
    "\n",
    "print(train_input.shape, test_input.shape)"
   ]
  },
  {
   "cell_type": "code",
   "execution_count": 3,
   "id": "7b49254d",
   "metadata": {},
   "outputs": [
    {
     "name": "stdout",
     "output_type": "stream",
     "text": [
      "218\n"
     ]
    }
   ],
   "source": [
    "# 데이터는 파이썬 객체를 담은 넘파이 배열\n",
    "# 첫번째 리뷰 길이 출력\n",
    "\n",
    "print(len(train_input[0]))"
   ]
  },
  {
   "cell_type": "code",
   "execution_count": 4,
   "id": "5011c211",
   "metadata": {},
   "outputs": [
    {
     "name": "stdout",
     "output_type": "stream",
     "text": [
      "189\n"
     ]
    }
   ],
   "source": [
    "# 두번재 리뷰 길이 출력\n",
    "\n",
    "print(len(train_input[1]))"
   ]
  },
  {
   "cell_type": "code",
   "execution_count": 5,
   "id": "a9408788",
   "metadata": {},
   "outputs": [
    {
     "name": "stdout",
     "output_type": "stream",
     "text": [
      "[1, 14, 22, 16, 43, 2, 2, 2, 2, 65, 458, 2, 66, 2, 4, 173, 36, 256, 5, 25, 100, 43, 2, 112, 50, 2, 2, 9, 35, 480, 284, 5, 150, 4, 172, 112, 167, 2, 336, 385, 39, 4, 172, 2, 2, 17, 2, 38, 13, 447, 4, 192, 50, 16, 6, 147, 2, 19, 14, 22, 4, 2, 2, 469, 4, 22, 71, 87, 12, 16, 43, 2, 38, 76, 15, 13, 2, 4, 22, 17, 2, 17, 12, 16, 2, 18, 2, 5, 62, 386, 12, 8, 316, 8, 106, 5, 4, 2, 2, 16, 480, 66, 2, 33, 4, 130, 12, 16, 38, 2, 5, 25, 124, 51, 36, 135, 48, 25, 2, 33, 6, 22, 12, 215, 28, 77, 52, 5, 14, 407, 16, 82, 2, 8, 4, 107, 117, 2, 15, 256, 4, 2, 7, 2, 5, 2, 36, 71, 43, 2, 476, 26, 400, 317, 46, 7, 4, 2, 2, 13, 104, 88, 4, 381, 15, 297, 98, 32, 2, 56, 26, 141, 6, 194, 2, 18, 4, 226, 22, 21, 134, 476, 26, 480, 5, 144, 30, 2, 18, 51, 36, 28, 224, 92, 25, 104, 4, 226, 65, 16, 38, 2, 88, 12, 16, 283, 5, 16, 2, 113, 103, 32, 15, 16, 2, 19, 178, 32]\n"
     ]
    }
   ],
   "source": [
    "# 첫번재 리뷰에 담긴 내용 출력\n",
    "# num_words를 500으로 설정했기 때문에 어휘 사전에 500개의 단어만 등재 / 어휘 사전에 없는 단어 = 2\n",
    "\n",
    "print(train_input[0])"
   ]
  },
  {
   "cell_type": "code",
   "execution_count": 6,
   "id": "41ada282",
   "metadata": {},
   "outputs": [
    {
     "name": "stdout",
     "output_type": "stream",
     "text": [
      "[1 0 0 1 0 0 1 0 1 0 1 0 0 0 0 0 1 1 0 1]\n"
     ]
    }
   ],
   "source": [
    "# 타깃 데이터 출력 ( 0:부정, 1:긍정)\n",
    "\n",
    "print(train_target[:20])"
   ]
  },
  {
   "cell_type": "code",
   "execution_count": 7,
   "id": "6d81416e",
   "metadata": {},
   "outputs": [],
   "source": [
    "# trian set 에서 20%를  validation set 으로 분리\n",
    "\n",
    "from sklearn.model_selection import train_test_split\n",
    "\n",
    "train_input, val_input, train_target, val_target = train_test_split(train_input, train_target, test_size=0.2, random_state=42)"
   ]
  },
  {
   "cell_type": "code",
   "execution_count": 8,
   "id": "7978848f",
   "metadata": {},
   "outputs": [
    {
     "data": {
      "text/plain": [
       "array([259, 520, 290, ..., 300,  70,  77])"
      ]
     },
     "execution_count": 8,
     "metadata": {},
     "output_type": "execute_result"
    }
   ],
   "source": [
    "# 각 리뷰의 길이를 계산하여 넘파이 배열에 배치 -> 원소들의 길이를 대강 알기 위해\n",
    "\n",
    "import numpy as np\n",
    "\n",
    "lengths = np.array([len(x) for x in train_input])\n",
    "lengths"
   ]
  },
  {
   "cell_type": "code",
   "execution_count": 9,
   "id": "feb38033",
   "metadata": {},
   "outputs": [
    {
     "name": "stdout",
     "output_type": "stream",
     "text": [
      "239.00925 178.0\n"
     ]
    }
   ],
   "source": [
    "# 리뷰 길이의 평균값과 중간값\n",
    "\n",
    "print(np.mean(lengths), np.median(lengths))"
   ]
  },
  {
   "cell_type": "code",
   "execution_count": 10,
   "id": "b35cf11b",
   "metadata": {},
   "outputs": [
    {
     "data": {
      "image/png": "[encoded data removed]",
      "text/plain": [
       "<Figure size 432x288 with 1 Axes>"
      ]
     },
     "metadata": {
      "needs_background": "light"
     },
     "output_type": "display_data"
    }
   ],
   "source": [
    "# 리뷰 길이를 histogram으로 표현\n",
    "\n",
    "import matplotlib.pyplot as plt\n",
    "\n",
    "plt.hist(lengths, color='y')\n",
    "plt.xlabel(\"length\")\n",
    "plt.ylabel(\"frequency\")\n",
    "plt.show()"
   ]
  },
  {
   "cell_type": "code",
   "execution_count": 11,
   "id": "d0b827f3",
   "metadata": {},
   "outputs": [],
   "source": [
    "# 100개의 단어만 사용 / 짧은 리뷰는 100에 맞추기 위해 패딩(0으로 채움) 사용\n",
    "# keras의 pad_sequences() 함수 이용\n",
    "\n",
    "from tensorflow.keras.preprocessing.sequence import pad_sequences\n",
    "\n",
    "train_seq = pad_sequences(train_input, maxlen=100)  #maxlen을 100으로 설정하여 100보다 짧으면 0으로 패딩, 길면 잘라냄"
   ]
  },
  {
   "cell_type": "code",
   "execution_count": 12,
   "id": "ae66ae86",
   "metadata": {},
   "outputs": [
    {
     "name": "stdout",
     "output_type": "stream",
     "text": [
      "(20000, 100)\n"
     ]
    }
   ],
   "source": [
    "# 패딩된 set 크기\n",
    "\n",
    "print(train_seq.shape)"
   ]
  },
  {
   "cell_type": "code",
   "execution_count": 13,
   "id": "0a1fc58c",
   "metadata": {},
   "outputs": [
    {
     "name": "stdout",
     "output_type": "stream",
     "text": [
      "[ 10   4  20   9   2 364 352   5  45   6   2   2  33 269   8   2 142   2\n",
      "   5   2  17  73  17 204   5   2  19  55   2   2  92  66 104  14  20  93\n",
      "  76   2 151  33   4  58  12 188   2 151  12 215  69 224 142  73 237   6\n",
      "   2   7   2   2 188   2 103  14  31  10  10 451   7   2   5   2  80  91\n",
      "   2  30   2  34  14  20 151  50  26 131  49   2  84  46  50  37  80  79\n",
      "   6   2  46   7  14  20  10  10 470 158]\n"
     ]
    }
   ],
   "source": [
    "# 첫번째 샘플\n",
    "\n",
    "print(train_seq[0])"
   ]
  },
  {
   "cell_type": "code",
   "execution_count": 14,
   "id": "9aebe04b",
   "metadata": {},
   "outputs": [
    {
     "name": "stdout",
     "output_type": "stream",
     "text": [
      "[6, 2, 46, 7, 14, 20, 10, 10, 470, 158]\n"
     ]
    }
   ],
   "source": [
    "# 원본 샘플의 끝 확인(끝에서 10번째~끝)\n",
    "\n",
    "print(train_input[0][-10:]) # seq 과 완벽히 일치하므로 앞부분이 잘렸음을 알 수 있음 -> 일반적으로 시퀀스의 뒷부분 정보가 더 유용하리라 기대하기 때문\n",
    "# 앞부분을 자르고 싶다면 ped_sequences(truncating=\"post\")"
   ]
  },
  {
   "cell_type": "code",
   "execution_count": 15,
   "id": "98089c1a",
   "metadata": {},
   "outputs": [
    {
     "name": "stdout",
     "output_type": "stream",
     "text": [
      "[  0   0   0   0   1   2 195  19  49   2   2 190   4   2 352   2 183  10\n",
      "  10  13  82  79   4   2  36  71 269   8   2  25  19  49   7   4   2   2\n",
      "   2   2   2  10  10  48  25  40   2  11   2   2  40   2   2   5   4   2\n",
      "   2  95  14 238  56 129   2  10  10  21   2  94 364 352   2   2  11 190\n",
      "  24 484   2   7  94 205 405  10  10  87   2  34  49   2   7   2   2   2\n",
      "   2   2 290   2  46  48  64  18   4   2]\n"
     ]
    }
   ],
   "source": [
    "# 여섯번째 샘플 출력\n",
    "\n",
    "print(train_seq[5]) # 앞부분 0을 통해 길이가 100 이하였음을 알 수 있음 / 마찬가지로 0패딩은 앞부분에"
   ]
  },
  {
   "cell_type": "code",
   "execution_count": 16,
   "id": "ed8597b6",
   "metadata": {},
   "outputs": [],
   "source": [
    "# validation set 의 길이 100으로 맞추기\n",
    "\n",
    "val_seq = pad_sequences(val_input, maxlen=100)"
   ]
  },
  {
   "cell_type": "markdown",
   "id": "6973cd81",
   "metadata": {},
   "source": [
    "##### 2) 순환 신경망 만들기"
   ]
  },
  {
   "cell_type": "code",
   "execution_count": 18,
   "id": "2f47d066",
   "metadata": {},
   "outputs": [],
   "source": [
    "from tensorflow import keras\n",
    "\n",
    "model = keras.Sequential()\n",
    "model.add(keras.layers.SimpleRNN(8, input_shape=(100,500)))\n",
    "model.add(keras.layers.Dense(1, activation='sigmoid'))"
   ]
  },
  {
   "cell_type": "code",
   "execution_count": 19,
   "id": "99999b67",
   "metadata": {},
   "outputs": [],
   "source": [
    "# 원-핫 인코딩 / keras.utils 패키지의 to_categorical() 함수 이용\n",
    "\n",
    "train_oh = keras.utils.to_categorical(train_seq)"
   ]
  },
  {
   "cell_type": "code",
   "execution_count": 20,
   "id": "e6c0d99c",
   "metadata": {},
   "outputs": [
    {
     "name": "stdout",
     "output_type": "stream",
     "text": [
      "(20000, 100, 500)\n"
     ]
    }
   ],
   "source": [
    "# train_oh의 배열 크기 출력\n",
    "\n",
    "print(train_oh.shape)"
   ]
  },
  {
   "cell_type": "code",
   "execution_count": 23,
   "id": "191aceb1",
   "metadata": {},
   "outputs": [
    {
     "name": "stdout",
     "output_type": "stream",
     "text": [
      "[0. 0. 0. 0. 0. 0. 0. 0. 0. 0. 1. 0.]\n",
      "1.0\n"
     ]
    }
   ],
   "source": [
    "# 첫번째 샘플ㄹ의 첫번째 토큰(=10)의 인코딩 확인\n",
    "\n",
    "print(train_oh[0][0][:12])\n",
    "print(np.sum(train_oh[0][0])) # 합이 1"
   ]
  },
  {
   "cell_type": "code",
   "execution_count": 24,
   "id": "57b264a4",
   "metadata": {},
   "outputs": [],
   "source": [
    "# val_seq 도 원-핫 인코딩 시행\n",
    "\n",
    "val_oh = keras.utils.to_categorical(val_seq)"
   ]
  },
  {
   "cell_type": "code",
   "execution_count": 25,
   "id": "3d53b1c5",
   "metadata": {},
   "outputs": [
    {
     "name": "stdout",
     "output_type": "stream",
     "text": [
      "Model: \"sequential_1\"\n",
      "_________________________________________________________________\n",
      "Layer (type)                 Output Shape              Param #   \n",
      "=================================================================\n",
      "simple_rnn_1 (SimpleRNN)     (None, 8)                 4072      \n",
      "_________________________________________________________________\n",
      "dense_1 (Dense)              (None, 1)                 9         \n",
      "=================================================================\n",
      "Total params: 4,081\n",
      "Trainable params: 4,081\n",
      "Non-trainable params: 0\n",
      "_________________________________________________________________\n"
     ]
    }
   ],
   "source": [
    "# 모델 요약\n",
    "\n",
    "model.summary()"
   ]
  },
  {
   "cell_type": "markdown",
   "id": "08a9906c",
   "metadata": {},
   "source": [
    "##### 3) 순환 신경망 훈련하기 #####"
   ]
  },
  {
   "cell_type": "code",
   "execution_count": 28,
   "id": "b91b3eab",
   "metadata": {},
   "outputs": [
    {
     "name": "stdout",
     "output_type": "stream",
     "text": [
      "Epoch 1/100\n",
      "313/313 [==============================] - 6s 19ms/step - loss: 0.6973 - accuracy: 0.5019 - val_loss: 0.6962 - val_accuracy: 0.4986\n",
      "Epoch 2/100\n",
      "313/313 [==============================] - 5s 16ms/step - loss: 0.6940 - accuracy: 0.5092 - val_loss: 0.6945 - val_accuracy: 0.5038\n",
      "Epoch 3/100\n",
      "313/313 [==============================] - 5s 16ms/step - loss: 0.6922 - accuracy: 0.5165 - val_loss: 0.6932 - val_accuracy: 0.5128\n",
      "Epoch 4/100\n",
      "313/313 [==============================] - 5s 16ms/step - loss: 0.6907 - accuracy: 0.5246 - val_loss: 0.6921 - val_accuracy: 0.5214\n",
      "Epoch 5/100\n",
      "313/313 [==============================] - 5s 16ms/step - loss: 0.6894 - accuracy: 0.5321 - val_loss: 0.6912 - val_accuracy: 0.5272\n",
      "Epoch 6/100\n",
      "313/313 [==============================] - 5s 16ms/step - loss: 0.6880 - accuracy: 0.5376 - val_loss: 0.6904 - val_accuracy: 0.5318\n",
      "Epoch 7/100\n",
      "313/313 [==============================] - 5s 17ms/step - loss: 0.6867 - accuracy: 0.5451 - val_loss: 0.6897 - val_accuracy: 0.5366\n",
      "Epoch 8/100\n",
      "313/313 [==============================] - 5s 16ms/step - loss: 0.6854 - accuracy: 0.5509 - val_loss: 0.6890 - val_accuracy: 0.5414\n",
      "Epoch 9/100\n",
      "313/313 [==============================] - 5s 16ms/step - loss: 0.6841 - accuracy: 0.5592 - val_loss: 0.6884 - val_accuracy: 0.5448\n",
      "Epoch 10/100\n",
      "313/313 [==============================] - 5s 17ms/step - loss: 0.6829 - accuracy: 0.5626 - val_loss: 0.6878 - val_accuracy: 0.5452\n",
      "Epoch 11/100\n",
      "313/313 [==============================] - 5s 17ms/step - loss: 0.6816 - accuracy: 0.5664 - val_loss: 0.6873 - val_accuracy: 0.5450\n",
      "Epoch 12/100\n",
      "313/313 [==============================] - 5s 17ms/step - loss: 0.6803 - accuracy: 0.5684 - val_loss: 0.6868 - val_accuracy: 0.5474\n",
      "Epoch 13/100\n",
      "313/313 [==============================] - 5s 16ms/step - loss: 0.6790 - accuracy: 0.5720 - val_loss: 0.6862 - val_accuracy: 0.5510\n",
      "Epoch 14/100\n",
      "313/313 [==============================] - 5s 17ms/step - loss: 0.6776 - accuracy: 0.5734 - val_loss: 0.6855 - val_accuracy: 0.5500\n",
      "Epoch 15/100\n",
      "313/313 [==============================] - 5s 16ms/step - loss: 0.6756 - accuracy: 0.5784 - val_loss: 0.6834 - val_accuracy: 0.5558\n",
      "Epoch 16/100\n",
      "313/313 [==============================] - 5s 17ms/step - loss: 0.6701 - accuracy: 0.6023 - val_loss: 0.6744 - val_accuracy: 0.5890\n",
      "Epoch 17/100\n",
      "313/313 [==============================] - 5s 16ms/step - loss: 0.6607 - accuracy: 0.6279 - val_loss: 0.6664 - val_accuracy: 0.6136\n",
      "Epoch 18/100\n",
      "313/313 [==============================] - 5s 17ms/step - loss: 0.6501 - accuracy: 0.6528 - val_loss: 0.6552 - val_accuracy: 0.6456\n",
      "Epoch 19/100\n",
      "313/313 [==============================] - 5s 17ms/step - loss: 0.6388 - accuracy: 0.6750 - val_loss: 0.6450 - val_accuracy: 0.6586\n",
      "Epoch 20/100\n",
      "313/313 [==============================] - 5s 17ms/step - loss: 0.6263 - accuracy: 0.6941 - val_loss: 0.6339 - val_accuracy: 0.6756\n",
      "Epoch 21/100\n",
      "313/313 [==============================] - 5s 17ms/step - loss: 0.6140 - accuracy: 0.7082 - val_loss: 0.6233 - val_accuracy: 0.6904\n",
      "Epoch 22/100\n",
      "313/313 [==============================] - 5s 17ms/step - loss: 0.6015 - accuracy: 0.7208 - val_loss: 0.6126 - val_accuracy: 0.6976\n",
      "Epoch 23/100\n",
      "313/313 [==============================] - 5s 17ms/step - loss: 0.5885 - accuracy: 0.7327 - val_loss: 0.5989 - val_accuracy: 0.7134\n",
      "Epoch 24/100\n",
      "313/313 [==============================] - 5s 17ms/step - loss: 0.5759 - accuracy: 0.7401 - val_loss: 0.5887 - val_accuracy: 0.7202\n",
      "Epoch 25/100\n",
      "313/313 [==============================] - 5s 17ms/step - loss: 0.5638 - accuracy: 0.7462 - val_loss: 0.5771 - val_accuracy: 0.7342\n",
      "Epoch 26/100\n",
      "313/313 [==============================] - 5s 17ms/step - loss: 0.5519 - accuracy: 0.7583 - val_loss: 0.5685 - val_accuracy: 0.7368\n",
      "Epoch 27/100\n",
      "313/313 [==============================] - 5s 17ms/step - loss: 0.5400 - accuracy: 0.7649 - val_loss: 0.5569 - val_accuracy: 0.7440\n",
      "Epoch 28/100\n",
      "313/313 [==============================] - 5s 17ms/step - loss: 0.5285 - accuracy: 0.7724 - val_loss: 0.5481 - val_accuracy: 0.7456\n",
      "Epoch 29/100\n",
      "313/313 [==============================] - 5s 17ms/step - loss: 0.5179 - accuracy: 0.7770 - val_loss: 0.5386 - val_accuracy: 0.7536\n",
      "Epoch 30/100\n",
      "313/313 [==============================] - 5s 17ms/step - loss: 0.5075 - accuracy: 0.7815 - val_loss: 0.5321 - val_accuracy: 0.7522\n",
      "Epoch 31/100\n",
      "313/313 [==============================] - 5s 17ms/step - loss: 0.4984 - accuracy: 0.7853 - val_loss: 0.5247 - val_accuracy: 0.7564\n",
      "Epoch 32/100\n",
      "313/313 [==============================] - 5s 17ms/step - loss: 0.4901 - accuracy: 0.7876 - val_loss: 0.5174 - val_accuracy: 0.7624\n",
      "Epoch 33/100\n",
      "313/313 [==============================] - 5s 17ms/step - loss: 0.4821 - accuracy: 0.7913 - val_loss: 0.5107 - val_accuracy: 0.7636\n",
      "Epoch 34/100\n",
      "313/313 [==============================] - 5s 17ms/step - loss: 0.4746 - accuracy: 0.7962 - val_loss: 0.5058 - val_accuracy: 0.7660\n",
      "Epoch 35/100\n",
      "313/313 [==============================] - 5s 17ms/step - loss: 0.4682 - accuracy: 0.8001 - val_loss: 0.5057 - val_accuracy: 0.7588\n",
      "Epoch 36/100\n",
      "313/313 [==============================] - 5s 17ms/step - loss: 0.4618 - accuracy: 0.7998 - val_loss: 0.4980 - val_accuracy: 0.7674\n",
      "Epoch 37/100\n",
      "313/313 [==============================] - 5s 17ms/step - loss: 0.4567 - accuracy: 0.8041 - val_loss: 0.4929 - val_accuracy: 0.7720\n",
      "Epoch 38/100\n",
      "313/313 [==============================] - 5s 17ms/step - loss: 0.4509 - accuracy: 0.8053 - val_loss: 0.4897 - val_accuracy: 0.7714\n",
      "Epoch 39/100\n",
      "313/313 [==============================] - 5s 17ms/step - loss: 0.4462 - accuracy: 0.8078 - val_loss: 0.4856 - val_accuracy: 0.7728\n",
      "Epoch 40/100\n",
      "313/313 [==============================] - 5s 17ms/step - loss: 0.4416 - accuracy: 0.8105 - val_loss: 0.4872 - val_accuracy: 0.7694\n",
      "Epoch 41/100\n",
      "313/313 [==============================] - 5s 17ms/step - loss: 0.4381 - accuracy: 0.8129 - val_loss: 0.4820 - val_accuracy: 0.7726\n",
      "Epoch 42/100\n",
      "313/313 [==============================] - 5s 17ms/step - loss: 0.4342 - accuracy: 0.8145 - val_loss: 0.4811 - val_accuracy: 0.7724\n",
      "Epoch 43/100\n",
      "313/313 [==============================] - 5s 17ms/step - loss: 0.4302 - accuracy: 0.8157 - val_loss: 0.4816 - val_accuracy: 0.7748\n",
      "Epoch 44/100\n",
      "313/313 [==============================] - 5s 17ms/step - loss: 0.4271 - accuracy: 0.8157 - val_loss: 0.4769 - val_accuracy: 0.7752\n",
      "Epoch 45/100\n",
      "313/313 [==============================] - 5s 17ms/step - loss: 0.4244 - accuracy: 0.8166 - val_loss: 0.4750 - val_accuracy: 0.7772\n",
      "Epoch 46/100\n",
      "313/313 [==============================] - 5s 17ms/step - loss: 0.4215 - accuracy: 0.8191 - val_loss: 0.4736 - val_accuracy: 0.7776\n",
      "Epoch 47/100\n",
      "313/313 [==============================] - 5s 17ms/step - loss: 0.4188 - accuracy: 0.8191 - val_loss: 0.4778 - val_accuracy: 0.7758\n",
      "Epoch 48/100\n",
      "313/313 [==============================] - 5s 17ms/step - loss: 0.4166 - accuracy: 0.8205 - val_loss: 0.4710 - val_accuracy: 0.7802\n",
      "Epoch 49/100\n",
      "313/313 [==============================] - 5s 17ms/step - loss: 0.4140 - accuracy: 0.8219 - val_loss: 0.4749 - val_accuracy: 0.7798\n",
      "Epoch 50/100\n",
      "313/313 [==============================] - 5s 17ms/step - loss: 0.4122 - accuracy: 0.8229 - val_loss: 0.4690 - val_accuracy: 0.7796\n",
      "Epoch 51/100\n",
      "313/313 [==============================] - 5s 17ms/step - loss: 0.4098 - accuracy: 0.8242 - val_loss: 0.4686 - val_accuracy: 0.7832\n",
      "Epoch 52/100\n",
      "313/313 [==============================] - 5s 17ms/step - loss: 0.4076 - accuracy: 0.8252 - val_loss: 0.4691 - val_accuracy: 0.7778\n",
      "Epoch 53/100\n",
      "313/313 [==============================] - 5s 17ms/step - loss: 0.4063 - accuracy: 0.8252 - val_loss: 0.4680 - val_accuracy: 0.7830\n",
      "Epoch 54/100\n",
      "313/313 [==============================] - 5s 17ms/step - loss: 0.4046 - accuracy: 0.8264 - val_loss: 0.4719 - val_accuracy: 0.7800\n",
      "Epoch 55/100\n",
      "313/313 [==============================] - 5s 17ms/step - loss: 0.4031 - accuracy: 0.8266 - val_loss: 0.4703 - val_accuracy: 0.7830\n",
      "Epoch 56/100\n",
      "313/313 [==============================] - 5s 16ms/step - loss: 0.4014 - accuracy: 0.8289 - val_loss: 0.4692 - val_accuracy: 0.7826\n"
     ]
    }
   ],
   "source": [
    "rmsprop = keras.optimizers.RMSprop(learning_rate=1e-4)\n",
    "model.compile(optimizer=rmsprop, loss='binary_crossentropy', metrics='accuracy')\n",
    "checkpoint_cb = keras.callbacks.ModelCheckpoint('best-simplernn-model.h5')\n",
    "early_stopping_cb = keras.callbacks.EarlyStopping(patience=3, restore_best_weights=True)\n",
    "history = model.fit(train_oh, train_target, epochs=100, batch_size=64, validation_data=(val_oh, val_target), callbacks=[checkpoint_cb, early_stopping_cb]) "
   ]
  },
  {
   "cell_type": "code",
   "execution_count": 29,
   "id": "28bf0351",
   "metadata": {},
   "outputs": [
    {
     "data": {
      "image/png": "[encoded data removed]",
      "text/plain": [
       "<Figure size 432x288 with 1 Axes>"
      ]
     },
     "metadata": {
      "needs_background": "light"
     },
     "output_type": "display_data"
    }
   ],
   "source": [
    "# 훈련 손실과 검증 손실 그래프로 나타내기\n",
    "\n",
    "plt.plot(history.history[\"loss\"])\n",
    "plt.plot(history.history[\"val_loss\"])\n",
    "plt.xlabel(\"epoch\")\n",
    "plt.ylabel(\"loss\")\n",
    "plt.legend([\"train\", \"val\"])\n",
    "plt.show()"
   ]
  },
  {
   "cell_type": "code",
   "execution_count": 30,
   "id": "5a4e46a5",
   "metadata": {},
   "outputs": [
    {
     "name": "stdout",
     "output_type": "stream",
     "text": [
      "8000000 4000000000\n"
     ]
    }
   ],
   "source": [
    "# sequence된 배열과 one-hot encoding 된 배열 크기 비교\n",
    "\n",
    "print(train_seq.nbytes, train_oh.nbytes)"
   ]
  },
  {
   "cell_type": "markdown",
   "id": "01a6fb58",
   "metadata": {},
   "source": [
    "##### - 단어 임베딩 사용하기 #####"
   ]
  },
  {
   "cell_type": "code",
   "execution_count": 39,
   "id": "ab495052",
   "metadata": {},
   "outputs": [],
   "source": [
    "# keras.layers 패키지의 Embedding 클래스로 임베딩\n",
    "\n",
    "model2 = keras.Sequential()\n",
    "model2.add(keras.layers.Embedding(500, 16, input_length=100)) # 단어사전의 크기 500, 임베딩 벡터의 크기 16, 입력 시퀀스 길이 100\n",
    "model2.add(keras.layers.SimpleRNN(8))\n",
    "model2.add(keras.layers.Dense(1, activation=\"sigmoid\"))"
   ]
  },
  {
   "cell_type": "code",
   "execution_count": 40,
   "id": "df0e3084",
   "metadata": {},
   "outputs": [
    {
     "name": "stdout",
     "output_type": "stream",
     "text": [
      "Model: \"sequential_4\"\n",
      "_________________________________________________________________\n",
      "Layer (type)                 Output Shape              Param #   \n",
      "=================================================================\n",
      "embedding_2 (Embedding)      (None, 100, 16)           8000      \n",
      "_________________________________________________________________\n",
      "simple_rnn_4 (SimpleRNN)     (None, 8)                 200       \n",
      "_________________________________________________________________\n",
      "dense_4 (Dense)              (None, 1)                 9         \n",
      "=================================================================\n",
      "Total params: 8,209\n",
      "Trainable params: 8,209\n",
      "Non-trainable params: 0\n",
      "_________________________________________________________________\n"
     ]
    }
   ],
   "source": [
    "# 모델 구조 확인\n",
    "\n",
    "model2.summary()"
   ]
  },
  {
   "cell_type": "code",
   "execution_count": 41,
   "id": "7c575a58",
   "metadata": {},
   "outputs": [
    {
     "name": "stdout",
     "output_type": "stream",
     "text": [
      "Epoch 1/100\n",
      "313/313 [==============================] - 3s 10ms/step - loss: 0.6733 - accuracy: 0.5805 - val_loss: 0.6484 - val_accuracy: 0.6406\n",
      "Epoch 2/100\n",
      "313/313 [==============================] - 2s 8ms/step - loss: 0.6257 - accuracy: 0.6812 - val_loss: 0.6114 - val_accuracy: 0.7070\n",
      "Epoch 3/100\n",
      "313/313 [==============================] - 2s 8ms/step - loss: 0.5968 - accuracy: 0.7187 - val_loss: 0.5877 - val_accuracy: 0.7324\n",
      "Epoch 4/100\n",
      "313/313 [==============================] - 2s 8ms/step - loss: 0.5757 - accuracy: 0.7419 - val_loss: 0.5741 - val_accuracy: 0.7368\n",
      "Epoch 5/100\n",
      "313/313 [==============================] - 2s 8ms/step - loss: 0.5600 - accuracy: 0.7534 - val_loss: 0.5599 - val_accuracy: 0.7526\n",
      "Epoch 6/100\n",
      "313/313 [==============================] - 2s 8ms/step - loss: 0.5453 - accuracy: 0.7661 - val_loss: 0.5486 - val_accuracy: 0.7560\n",
      "Epoch 7/100\n",
      "313/313 [==============================] - 2s 8ms/step - loss: 0.5327 - accuracy: 0.7709 - val_loss: 0.5369 - val_accuracy: 0.7644\n",
      "Epoch 8/100\n",
      "313/313 [==============================] - 2s 8ms/step - loss: 0.5213 - accuracy: 0.7782 - val_loss: 0.5279 - val_accuracy: 0.7694\n",
      "Epoch 9/100\n",
      "313/313 [==============================] - 2s 8ms/step - loss: 0.5100 - accuracy: 0.7839 - val_loss: 0.5204 - val_accuracy: 0.7710\n",
      "Epoch 10/100\n",
      "313/313 [==============================] - 2s 8ms/step - loss: 0.4994 - accuracy: 0.7878 - val_loss: 0.5110 - val_accuracy: 0.7772\n",
      "Epoch 11/100\n",
      "313/313 [==============================] - 2s 8ms/step - loss: 0.4892 - accuracy: 0.7918 - val_loss: 0.5078 - val_accuracy: 0.7716\n",
      "Epoch 12/100\n",
      "313/313 [==============================] - 2s 8ms/step - loss: 0.4802 - accuracy: 0.7961 - val_loss: 0.5041 - val_accuracy: 0.7694\n",
      "Epoch 13/100\n",
      "313/313 [==============================] - 2s 8ms/step - loss: 0.4715 - accuracy: 0.8001 - val_loss: 0.4907 - val_accuracy: 0.7804\n",
      "Epoch 14/100\n",
      "313/313 [==============================] - 2s 8ms/step - loss: 0.4630 - accuracy: 0.8033 - val_loss: 0.4826 - val_accuracy: 0.7884\n",
      "Epoch 15/100\n",
      "313/313 [==============================] - 2s 8ms/step - loss: 0.4552 - accuracy: 0.8061 - val_loss: 0.4803 - val_accuracy: 0.7858\n",
      "Epoch 16/100\n",
      "313/313 [==============================] - 2s 8ms/step - loss: 0.4482 - accuracy: 0.8085 - val_loss: 0.4824 - val_accuracy: 0.7782\n",
      "Epoch 17/100\n",
      "313/313 [==============================] - 2s 8ms/step - loss: 0.4414 - accuracy: 0.8124 - val_loss: 0.4713 - val_accuracy: 0.7872\n",
      "Epoch 18/100\n",
      "313/313 [==============================] - 2s 8ms/step - loss: 0.4357 - accuracy: 0.8138 - val_loss: 0.4657 - val_accuracy: 0.7894\n",
      "Epoch 19/100\n",
      "313/313 [==============================] - 2s 8ms/step - loss: 0.4303 - accuracy: 0.8163 - val_loss: 0.4652 - val_accuracy: 0.7892\n",
      "Epoch 20/100\n",
      "313/313 [==============================] - 3s 8ms/step - loss: 0.4248 - accuracy: 0.8180 - val_loss: 0.4648 - val_accuracy: 0.7852\n",
      "Epoch 21/100\n",
      "313/313 [==============================] - 2s 8ms/step - loss: 0.4206 - accuracy: 0.8201 - val_loss: 0.4593 - val_accuracy: 0.7900\n",
      "Epoch 22/100\n",
      "313/313 [==============================] - 2s 8ms/step - loss: 0.4160 - accuracy: 0.8220 - val_loss: 0.4644 - val_accuracy: 0.7848\n",
      "Epoch 23/100\n",
      "313/313 [==============================] - 2s 8ms/step - loss: 0.4122 - accuracy: 0.8236 - val_loss: 0.4595 - val_accuracy: 0.7884\n",
      "Epoch 24/100\n",
      "313/313 [==============================] - 3s 8ms/step - loss: 0.4092 - accuracy: 0.8230 - val_loss: 0.4598 - val_accuracy: 0.7872\n"
     ]
    }
   ],
   "source": [
    "# 모델 훈련\n",
    "\n",
    "rmsprop = keras.optimizers.RMSprop(learning_rate=1e-4)\n",
    "model2.compile(optimizer=rmsprop, loss='binary_crossentropy', metrics=[\"accuracy\"])\n",
    "checkpoint_cb = keras.callbacks.ModelCheckpoint('best-embedding-model.h5')\n",
    "early_stopping_cb = keras.callbacks.EarlyStopping(patience=3, restore_best_weights=True)\n",
    "history = model2.fit(train_seq, train_target, epochs=100, batch_size=64, validation_data=(val_seq, val_target), callbacks=[checkpoint_cb, early_stopping_cb])"
   ]
  },
  {
   "cell_type": "code",
   "execution_count": 43,
   "id": "51082d95",
   "metadata": {},
   "outputs": [
    {
     "data": {
      "image/png": "[encoded data removed]",
      "text/plain": [
       "<Figure size 432x288 with 1 Axes>"
      ]
     },
     "metadata": {
      "needs_background": "light"
     },
     "output_type": "display_data"
    }
   ],
   "source": [
    "# 훈련 손실과 검증 손실 그래프\n",
    "\n",
    "plt.plot(history.history[\"loss\"])\n",
    "plt.plot(history.history[\"val_loss\"])\n",
    "plt.xlabel(\"epoch\")\n",
    "plt.ylabel(\"loss\")\n",
    "plt.legend([\"train\", \"val\"])\n",
    "plt.show()"
   ]
  },
  {
   "cell_type": "code",
   "execution_count": null,
   "id": "9cc46a71",
   "metadata": {},
   "outputs": [],
   "source": []
  },
  {
   "cell_type": "code",
   "execution_count": null,
   "id": "554637eb",
   "metadata": {},
   "outputs": [],
   "source": []
  }
 ],
 "metadata": {
  "kernelspec": {
   "display_name": "Python 3",
   "language": "python",
   "name": "python3"
  },
  "language_info": {
   "codemirror_mode": {
    "name": "ipython",
    "version": 3
   },
   "file_extension": ".py",
   "mimetype": "text/x-python",
   "name": "python",
   "nbconvert_exporter": "python",
   "pygments_lexer": "ipython3",
   "version": "3.8.8"
  }
 },
 "nbformat": 4,
 "nbformat_minor": 5
}
